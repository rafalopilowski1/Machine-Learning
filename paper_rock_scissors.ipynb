{
 "cells": [
  {
   "cell_type": "markdown",
   "metadata": {},
   "source": [
    "# Paper, Rock, Scissors!"
   ]
  },
  {
   "cell_type": "markdown",
   "metadata": {},
   "source": [
    "- The computer is given a tactic in the form of a transition matrix:\n",
    "    ```python\n",
    "    transition_matrix_computer = {\n",
    "        \"Paper\": {\n",
    "            \"Paper\": 2 / 3,\n",
    "            \"Rock\": 1 / 3,\n",
    "            \"Scissors\": 0 / 3\n",
    "        },\n",
    "        \"Rock\": {\n",
    "            \"Paper\": 0 / 3,\n",
    "            \"Rock\": 2 / 3,\n",
    "            \"Scissors\": 1 / 3\n",
    "        },\n",
    "        \"Scissors\": {\n",
    "            \"Paper\": 2 / 3,\n",
    "            \"Rock\": 0 / 3,\n",
    "            \"Scissors\": 1 / 3\n",
    "        }\n",
    "    }\n",
    "    ```\n",
    "i.e. based on his previous choice he chooses the current paper, rock or scissors\n",
    "- The player's tactics are:\n",
    "    - Version 1: based on the stationary vector `transition_matrix_computer`\n",
    "    - Version 2: the transition matrix is updated during the game\n",
    "- The payoff value for the player is:\n",
    "    - 1 in case of a win\n",
    "    - -1 in case of a loss\n",
    "    - 0 in case of a draw"
   ]
  },
  {
   "cell_type": "markdown",
   "metadata": {},
   "source": [
    "## Requirements\n",
    "- `numpy`\n",
    "- `matplotlib`\n",
    "- `ipywidgets`"
   ]
  },
  {
   "cell_type": "code",
   "execution_count": 1,
   "metadata": {},
   "outputs": [],
   "source": [
    "from numpy import zeros, random, dot, clip, sign\n",
    "import matplotlib.pyplot as plt"
   ]
  },
  {
   "cell_type": "markdown",
   "metadata": {},
   "source": [
    "Description: The programme simulates a game of 'Rock, Paper, Scissors' between a player and a computer,\n",
    "       updating the transition matrix based on performance and learning in real time."
   ]
  },
  {
   "cell_type": "code",
   "execution_count": 2,
   "metadata": {},
   "outputs": [],
   "source": [
    "states_computer = [\"Paper\", \"Rock\", \"Scissors\"]\n",
    "states_player = [\"Scissors\", \"Paper\", \"Rock\"]\n",
    "transition_matrix_computer = {\n",
    "    \"Paper\": {\n",
    "        \"Paper\": 2 / 3,\n",
    "        \"Rock\": 1 / 3,\n",
    "        \"Scissors\": 0 / 3\n",
    "    },\n",
    "    \"Rock\": {\n",
    "        \"Paper\": 0 / 3,\n",
    "        \"Rock\": 2 / 3,\n",
    "        \"Scissors\": 1 / 3\n",
    "    },\n",
    "    \"Scissors\": {\n",
    "        \"Paper\": 2 / 3,\n",
    "        \"Rock\": 0 / 3,\n",
    "        \"Scissors\": 1 / 3\n",
    "    }\n",
    "}\n",
    "transition_matrix_player = {\n",
    "    \"Paper\": {\n",
    "        \"Paper\": 1 / 3,\n",
    "        \"Rock\": 1 / 3,\n",
    "        \"Scissors\": 1 / 3\n",
    "    },\n",
    "    \"Rock\": {\n",
    "        \"Paper\": 1 / 3,\n",
    "        \"Rock\": 1 / 3,\n",
    "        \"Scissors\": 1 / 3\n",
    "    },\n",
    "    \"Scissors\": {\n",
    "        \"Paper\": 1 / 3,\n",
    "        \"Rock\": 1 / 3,\n",
    "        \"Scissors\": 1 / 3\n",
    "    }\n",
    "}"
   ]
  },
  {
   "cell_type": "code",
   "execution_count": 3,
   "metadata": {},
   "outputs": [],
   "source": [
    "def choose_move(prev_move, transition_matrix, states):\n",
    "    next_move = random.choice(\n",
    "        states, p=[transition_matrix[prev_move][_] for _ in states])\n",
    "    return next_move\n",
    "\n",
    "\n",
    "def game(computer_move, player_move):\n",
    "    match (computer_move, player_move):\n",
    "        case (\"Paper\", \"Scissors\") | (\"Rock\", \"Paper\") | (\"Scissors\", \"Rock\"):\n",
    "            return 1\n",
    "        case (\"Paper\", \"Rock\") | (\"Rock\", \"Scissors\") | (\"Scissors\", \"Paper\"):\n",
    "            return -1\n",
    "        case _:\n",
    "            return 0"
   ]
  },
  {
   "cell_type": "markdown",
   "metadata": {},
   "source": [
    "#### Version 1"
   ]
  },
  {
   "cell_type": "code",
   "execution_count": 4,
   "metadata": {},
   "outputs": [],
   "source": [
    "def matrix_to_stationary_vector(transition_matrix, states):\n",
    "    vector = [1 / 3, 1 / 3, 1 / 3]\n",
    "\n",
    "    matrix_size = len(states)\n",
    "    matrix = zeros((matrix_size, matrix_size))\n",
    "\n",
    "    for idx in range(matrix_size**2):\n",
    "        i = idx % matrix_size\n",
    "        j = idx // matrix_size\n",
    "        matrix[i, j] = transition_matrix[states[i]][states[j]]\n",
    "\n",
    "    for _ in range(5):\n",
    "        vector = dot(vector, matrix)\n",
    "\n",
    "    return vector\n",
    "\n",
    "\n",
    "def version_first(stationary_vector):\n",
    "    cash = 0\n",
    "    cash_history = [cash]\n",
    "\n",
    "    prev_computer_move = None\n",
    "    for _ in range(10001):\n",
    "        player_move = random.choice(states_player, p=stationary_vector)\n",
    "        if prev_computer_move is None:\n",
    "            computer_move = random.choice(states_computer)\n",
    "        else:\n",
    "            computer_move = choose_move(prev_computer_move,\n",
    "                                        transition_matrix_computer,\n",
    "                                        states_computer)\n",
    "        change = game(computer_move, player_move)\n",
    "        cash += change\n",
    "        cash_history.append(cash)\n",
    "        prev_computer_move = computer_move\n",
    "    return (cash, cash_history)"
   ]
  },
  {
   "cell_type": "markdown",
   "metadata": {},
   "source": [
    "#### Version 2"
   ]
  },
  {
   "cell_type": "code",
   "execution_count": 5,
   "metadata": {},
   "outputs": [],
   "source": [
    "def update_transition_matrix(change, move, prev_move, transition_matrix):\n",
    "    learning_rate = 0.02\n",
    "    transition_matrix[prev_move][move] *= (1 + sign(change) * learning_rate)\n",
    "    transition_matrix[prev_move][move] = clip(\n",
    "        transition_matrix[prev_move][move], 0, 1)\n",
    "    for k1, d in transition_matrix.items():\n",
    "        values_sum = sum(d.values())\n",
    "        if values_sum > 0:\n",
    "            for k2 in d.keys():\n",
    "                transition_matrix[k1][k2] /= values_sum\n",
    "\n",
    "\n",
    "def version_second():\n",
    "    cash = 0\n",
    "    cash_history = [cash]\n",
    "\n",
    "    prev_computer_move = None\n",
    "    prev_player_move = None\n",
    "    for _ in range(10001):\n",
    "        if prev_computer_move is not None:\n",
    "            computer_move = choose_move(prev_computer_move,\n",
    "                                        transition_matrix_computer,\n",
    "                                        states_computer)\n",
    "        else:\n",
    "            computer_move = random.choice(states_computer)\n",
    "        if prev_player_move is not None:\n",
    "            player_move = choose_move(prev_player_move,\n",
    "                                      transition_matrix_player, states_player)\n",
    "        else:\n",
    "            player_move = random.choice(states_computer)\n",
    "        change = game(computer_move, player_move)\n",
    "        cash += change\n",
    "        cash_history.append(cash)\n",
    "        if prev_player_move is not None:\n",
    "            update_transition_matrix(change, player_move, prev_player_move,\n",
    "                                     transition_matrix_player)\n",
    "        prev_player_move = player_move\n",
    "        prev_computer_move = computer_move\n",
    "    return (cash, cash_history)"
   ]
  },
  {
   "cell_type": "code",
   "execution_count": 6,
   "metadata": {},
   "outputs": [],
   "source": [
    "def draw_cash_history(cash_history):\n",
    "    plt.plot(range(len(cash_history)), cash_history)\n",
    "    plt.plot(range(len(cash_history)), [0] * len(cash_history), color='red')\n",
    "    plt.xlabel('Numer Gry')\n",
    "    plt.ylabel('Stan Gotówki')\n",
    "    plt.title('Zmiana Stanu Gotówki w Grze \"Kamień, Papier, Nożyce\"')\n",
    "    plt.show()"
   ]
  },
  {
   "cell_type": "code",
   "execution_count": 7,
   "metadata": {},
   "outputs": [
    {
     "data": {
      "application/vnd.jupyter.widget-view+json": {
       "model_id": "b89ede1a75334efba84bc4f2dc542871",
       "version_major": 2,
       "version_minor": 0
      },
      "text/plain": [
       "interactive(children=(Dropdown(description='choose', options=('Stationary vector', 'Transition matrix'), value…"
      ]
     },
     "metadata": {},
     "output_type": "display_data"
    }
   ],
   "source": [
    "from ipywidgets import interact\n",
    "\n",
    "\n",
    "@interact(choose=[\"Stationary vector\", \"Transition matrix\"])\n",
    "def choose_version(choose):\n",
    "    match choose:\n",
    "        case \"Stationary vector\":\n",
    "            stationary_vector = matrix_to_stationary_vector(\n",
    "                transition_matrix_computer, states_computer)\n",
    "            cash, cash_history = version_first(stationary_vector)\n",
    "        case \"Transition matrix\":\n",
    "            cash, cash_history = version_second()\n",
    "    print(f\"Końcowy stan konta: {cash}\")\n",
    "    draw_cash_history(cash_history)"
   ]
  }
 ],
 "metadata": {
  "kernelspec": {
   "display_name": ".venv",
   "language": "python",
   "name": "python3"
  },
  "language_info": {
   "codemirror_mode": {
    "name": "ipython",
    "version": 3
   },
   "file_extension": ".py",
   "mimetype": "text/x-python",
   "name": "python",
   "nbconvert_exporter": "python",
   "pygments_lexer": "ipython3",
   "version": "3.10.14"
  }
 },
 "nbformat": 4,
 "nbformat_minor": 2
}
